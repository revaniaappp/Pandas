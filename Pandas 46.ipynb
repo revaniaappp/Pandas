{
 "cells": [
  {
   "cell_type": "markdown",
   "id": "3374115a-7776-4275-97d0-97f4a74431d2",
   "metadata": {},
   "source": [
    "<h1 style=\"font-size: 2.0em;\">Seleksi weekdays dan weekends pada data deret waktu (time series)</h1>"
   ]
  },
  {
   "cell_type": "markdown",
   "id": "f8d051d4-6652-47a5-8d15-0e72e9bfcca5",
   "metadata": {},
   "source": [
    "<h1 style=\"font-size: 1.6em;\">Import Modules</h1>"
   ]
  },
  {
   "cell_type": "code",
   "execution_count": 12,
   "id": "6b3c3871-cc52-45cb-b5fe-a78afd8a16ca",
   "metadata": {},
   "outputs": [
    {
     "name": "stdout",
     "output_type": "stream",
     "text": [
      "2.2.2\n",
      "1.26.4\n"
     ]
    }
   ],
   "source": [
    "import pandas as pd\n",
    "import numpy as np\n",
    "\n",
    "print(pd.__version__)\n",
    "print(np.__version__)"
   ]
  },
  {
   "cell_type": "markdown",
   "id": "5d7b510a-79ed-42be-bbd6-e88f5b50fc34",
   "metadata": {},
   "source": [
    "<h1 style=\"font-size: 1.6em;\">Persiapan Data Frame</h1>"
   ]
  },
  {
   "cell_type": "code",
   "execution_count": 14,
   "id": "b8693575-2b16-4304-b169-1bd5fffa47b0",
   "metadata": {},
   "outputs": [
    {
     "name": "stdout",
     "output_type": "stream",
     "text": [
      "            col1  col2\n",
      "2024-01-01     9     6\n",
      "2024-01-02     1    17\n",
      "2024-01-03    13    13\n",
      "2024-01-04    14     1\n",
      "2024-01-05     7    11\n",
      "...          ...   ...\n",
      "2024-12-26    11    18\n",
      "2024-12-27    19     9\n",
      "2024-12-28     5     2\n",
      "2024-12-29     4    15\n",
      "2024-12-30     1    19\n",
      "\n",
      "[365 rows x 2 columns]\n"
     ]
    }
   ],
   "source": [
    "n_rows = 365\n",
    "n_cols = 2\n",
    "cols = ['col1', 'col2']\n",
    "\n",
    "df = pd.DataFrame(np.random.randint(1, 20, size=(n_rows, n_cols)), columns=cols)\n",
    "\n",
    "df.index = pd.date_range(start='2024-01-01', periods=n_rows, freq='D')\n",
    "\n",
    "print(df)"
   ]
  },
  {
   "cell_type": "markdown",
   "id": "d29e79c1-8a62-467b-bd54-40963505f6ec",
   "metadata": {},
   "source": [
    "<h1 style=\"font-size: 1.6em;\">Seleksi weekdays dan weekends</h1>"
   ]
  },
  {
   "cell_type": "code",
   "execution_count": 17,
   "id": "f97a5f66-93aa-48e3-b333-0181d278e124",
   "metadata": {},
   "outputs": [
    {
     "data": {
      "text/html": [
       "<div>\n",
       "<style scoped>\n",
       "    .dataframe tbody tr th:only-of-type {\n",
       "        vertical-align: middle;\n",
       "    }\n",
       "\n",
       "    .dataframe tbody tr th {\n",
       "        vertical-align: top;\n",
       "    }\n",
       "\n",
       "    .dataframe thead th {\n",
       "        text-align: right;\n",
       "    }\n",
       "</style>\n",
       "<table border=\"1\" class=\"dataframe\">\n",
       "  <thead>\n",
       "    <tr style=\"text-align: right;\">\n",
       "      <th></th>\n",
       "      <th>col1</th>\n",
       "      <th>col2</th>\n",
       "    </tr>\n",
       "  </thead>\n",
       "  <tbody>\n",
       "    <tr>\n",
       "      <th>2024-01-01</th>\n",
       "      <td>9</td>\n",
       "      <td>6</td>\n",
       "    </tr>\n",
       "    <tr>\n",
       "      <th>2024-01-02</th>\n",
       "      <td>1</td>\n",
       "      <td>17</td>\n",
       "    </tr>\n",
       "    <tr>\n",
       "      <th>2024-01-03</th>\n",
       "      <td>13</td>\n",
       "      <td>13</td>\n",
       "    </tr>\n",
       "    <tr>\n",
       "      <th>2024-01-04</th>\n",
       "      <td>14</td>\n",
       "      <td>1</td>\n",
       "    </tr>\n",
       "    <tr>\n",
       "      <th>2024-01-05</th>\n",
       "      <td>7</td>\n",
       "      <td>11</td>\n",
       "    </tr>\n",
       "    <tr>\n",
       "      <th>2024-01-08</th>\n",
       "      <td>16</td>\n",
       "      <td>18</td>\n",
       "    </tr>\n",
       "    <tr>\n",
       "      <th>2024-01-09</th>\n",
       "      <td>8</td>\n",
       "      <td>7</td>\n",
       "    </tr>\n",
       "  </tbody>\n",
       "</table>\n",
       "</div>"
      ],
      "text/plain": [
       "            col1  col2\n",
       "2024-01-01     9     6\n",
       "2024-01-02     1    17\n",
       "2024-01-03    13    13\n",
       "2024-01-04    14     1\n",
       "2024-01-05     7    11\n",
       "2024-01-08    16    18\n",
       "2024-01-09     8     7"
      ]
     },
     "execution_count": 17,
     "metadata": {},
     "output_type": "execute_result"
    }
   ],
   "source": [
    "weekdays_df = df[df.index.dayofweek.isin([0, 1, 2, 3, 4])]\n",
    "weekdays_df.head(7)"
   ]
  },
  {
   "cell_type": "code",
   "execution_count": 19,
   "id": "552f5877-d6d1-49eb-b282-68530286ab7c",
   "metadata": {},
   "outputs": [
    {
     "data": {
      "text/html": [
       "<div>\n",
       "<style scoped>\n",
       "    .dataframe tbody tr th:only-of-type {\n",
       "        vertical-align: middle;\n",
       "    }\n",
       "\n",
       "    .dataframe tbody tr th {\n",
       "        vertical-align: top;\n",
       "    }\n",
       "\n",
       "    .dataframe thead th {\n",
       "        text-align: right;\n",
       "    }\n",
       "</style>\n",
       "<table border=\"1\" class=\"dataframe\">\n",
       "  <thead>\n",
       "    <tr style=\"text-align: right;\">\n",
       "      <th></th>\n",
       "      <th>col1</th>\n",
       "      <th>col2</th>\n",
       "    </tr>\n",
       "  </thead>\n",
       "  <tbody>\n",
       "    <tr>\n",
       "      <th>2024-01-06</th>\n",
       "      <td>13</td>\n",
       "      <td>8</td>\n",
       "    </tr>\n",
       "    <tr>\n",
       "      <th>2024-01-07</th>\n",
       "      <td>10</td>\n",
       "      <td>5</td>\n",
       "    </tr>\n",
       "    <tr>\n",
       "      <th>2024-01-13</th>\n",
       "      <td>9</td>\n",
       "      <td>4</td>\n",
       "    </tr>\n",
       "    <tr>\n",
       "      <th>2024-01-14</th>\n",
       "      <td>16</td>\n",
       "      <td>1</td>\n",
       "    </tr>\n",
       "    <tr>\n",
       "      <th>2024-01-20</th>\n",
       "      <td>16</td>\n",
       "      <td>10</td>\n",
       "    </tr>\n",
       "    <tr>\n",
       "      <th>2024-01-21</th>\n",
       "      <td>18</td>\n",
       "      <td>14</td>\n",
       "    </tr>\n",
       "    <tr>\n",
       "      <th>2024-01-27</th>\n",
       "      <td>11</td>\n",
       "      <td>11</td>\n",
       "    </tr>\n",
       "  </tbody>\n",
       "</table>\n",
       "</div>"
      ],
      "text/plain": [
       "            col1  col2\n",
       "2024-01-06    13     8\n",
       "2024-01-07    10     5\n",
       "2024-01-13     9     4\n",
       "2024-01-14    16     1\n",
       "2024-01-20    16    10\n",
       "2024-01-21    18    14\n",
       "2024-01-27    11    11"
      ]
     },
     "execution_count": 19,
     "metadata": {},
     "output_type": "execute_result"
    }
   ],
   "source": [
    "weekends_df = df[df.index.dayofweek.isin([5, 6])]\n",
    "weekends_df.head(7)"
   ]
  }
 ],
 "metadata": {
  "kernelspec": {
   "display_name": "Python 3 (ipykernel)",
   "language": "python",
   "name": "python3"
  },
  "language_info": {
   "codemirror_mode": {
    "name": "ipython",
    "version": 3
   },
   "file_extension": ".py",
   "mimetype": "text/x-python",
   "name": "python",
   "nbconvert_exporter": "python",
   "pygments_lexer": "ipython3",
   "version": "3.12.4"
  }
 },
 "nbformat": 4,
 "nbformat_minor": 5
}
