{
 "cells": [
  {
   "cell_type": "markdown",
   "id": "9422de0a-01f5-4ea7-b438-0808263ca98f",
   "metadata": {},
   "source": [
    "<h1 style=\"font-size: 2.0em;\">Transformasi kolom menjadi baris pada Data Frame</h1>"
   ]
  },
  {
   "cell_type": "markdown",
   "id": "bbc2ad70-ebdf-4c68-a67f-d0568cfa24ab",
   "metadata": {},
   "source": [
    "<h1 style=\"font-size: 1.6em;\">Import Modules</h1>"
   ]
  },
  {
   "cell_type": "code",
   "execution_count": 5,
   "id": "63849287-4d3c-4b90-afef-584caf617253",
   "metadata": {},
   "outputs": [
    {
     "name": "stdout",
     "output_type": "stream",
     "text": [
      "2.2.2\n"
     ]
    }
   ],
   "source": [
    "import pandas as pd\n",
    "print(pd.__version__)"
   ]
  },
  {
   "cell_type": "markdown",
   "id": "a3ee9070-ea7e-4a65-b27e-aa0e0986feda",
   "metadata": {},
   "source": [
    "<h1 style=\"font-size: 1.6em;\">Persiapan Data Frame</h1>"
   ]
  },
  {
   "cell_type": "code",
   "execution_count": 9,
   "id": "53fe66f5-b790-42ed-8cf0-e6637dfacc1a",
   "metadata": {},
   "outputs": [
    {
     "data": {
      "text/html": [
       "<div>\n",
       "<style scoped>\n",
       "    .dataframe tbody tr th:only-of-type {\n",
       "        vertical-align: middle;\n",
       "    }\n",
       "\n",
       "    .dataframe tbody tr th {\n",
       "        vertical-align: top;\n",
       "    }\n",
       "\n",
       "    .dataframe thead th {\n",
       "        text-align: right;\n",
       "    }\n",
       "</style>\n",
       "<table border=\"1\" class=\"dataframe\">\n",
       "  <thead>\n",
       "    <tr style=\"text-align: right;\">\n",
       "      <th></th>\n",
       "      <th>kode_area</th>\n",
       "      <th>pabrik</th>\n",
       "      <th>gudang</th>\n",
       "      <th>toko</th>\n",
       "    </tr>\n",
       "  </thead>\n",
       "  <tbody>\n",
       "    <tr>\n",
       "      <th>0</th>\n",
       "      <td>123</td>\n",
       "      <td>4</td>\n",
       "      <td>2</td>\n",
       "      <td>64</td>\n",
       "    </tr>\n",
       "    <tr>\n",
       "      <th>1</th>\n",
       "      <td>456</td>\n",
       "      <td>2</td>\n",
       "      <td>4</td>\n",
       "      <td>32</td>\n",
       "    </tr>\n",
       "    <tr>\n",
       "      <th>2</th>\n",
       "      <td>789</td>\n",
       "      <td>5</td>\n",
       "      <td>7</td>\n",
       "      <td>15</td>\n",
       "    </tr>\n",
       "    <tr>\n",
       "      <th>3</th>\n",
       "      <td>321</td>\n",
       "      <td>0</td>\n",
       "      <td>3</td>\n",
       "      <td>24</td>\n",
       "    </tr>\n",
       "  </tbody>\n",
       "</table>\n",
       "</div>"
      ],
      "text/plain": [
       "   kode_area  pabrik  gudang  toko\n",
       "0        123       4       2    64\n",
       "1        456       2       4    32\n",
       "2        789       5       7    15\n",
       "3        321       0       3    24"
      ]
     },
     "execution_count": 9,
     "metadata": {},
     "output_type": "execute_result"
    }
   ],
   "source": [
    "d = {\n",
    "'kode_area': [123, 456, 789, 321],\n",
    "'pabrik': [4, 2, 5, 0],\n",
    "'gudang': [2, 4, 7, 3],\n",
    "'toko': [64, 32, 15, 24]\n",
    "}\n",
    "df = pd.DataFrame(d)\n",
    "df"
   ]
  },
  {
   "cell_type": "markdown",
   "id": "63022c4b-c74b-41db-81b0-fcde21870f2a",
   "metadata": {},
   "source": [
    "<h1 style=\"font-size: 1.6em;\">Transformasi kolom menjadi baris</h1>"
   ]
  },
  {
   "cell_type": "code",
   "execution_count": 11,
   "id": "f0a7b186-e5a0-4577-9c91-99aac9b24bc3",
   "metadata": {},
   "outputs": [
    {
     "data": {
      "text/html": [
       "<div>\n",
       "<style scoped>\n",
       "    .dataframe tbody tr th:only-of-type {\n",
       "        vertical-align: middle;\n",
       "    }\n",
       "\n",
       "    .dataframe tbody tr th {\n",
       "        vertical-align: top;\n",
       "    }\n",
       "\n",
       "    .dataframe thead th {\n",
       "        text-align: right;\n",
       "    }\n",
       "</style>\n",
       "<table border=\"1\" class=\"dataframe\">\n",
       "  <thead>\n",
       "    <tr style=\"text-align: right;\">\n",
       "      <th></th>\n",
       "      <th>kode_area</th>\n",
       "      <th>jenis_bangunan</th>\n",
       "      <th>jumlah</th>\n",
       "    </tr>\n",
       "  </thead>\n",
       "  <tbody>\n",
       "    <tr>\n",
       "      <th>0</th>\n",
       "      <td>123</td>\n",
       "      <td>pabrik</td>\n",
       "      <td>4</td>\n",
       "    </tr>\n",
       "    <tr>\n",
       "      <th>1</th>\n",
       "      <td>456</td>\n",
       "      <td>pabrik</td>\n",
       "      <td>2</td>\n",
       "    </tr>\n",
       "    <tr>\n",
       "      <th>2</th>\n",
       "      <td>789</td>\n",
       "      <td>pabrik</td>\n",
       "      <td>5</td>\n",
       "    </tr>\n",
       "    <tr>\n",
       "      <th>3</th>\n",
       "      <td>321</td>\n",
       "      <td>pabrik</td>\n",
       "      <td>0</td>\n",
       "    </tr>\n",
       "    <tr>\n",
       "      <th>4</th>\n",
       "      <td>123</td>\n",
       "      <td>gudang</td>\n",
       "      <td>2</td>\n",
       "    </tr>\n",
       "    <tr>\n",
       "      <th>5</th>\n",
       "      <td>456</td>\n",
       "      <td>gudang</td>\n",
       "      <td>4</td>\n",
       "    </tr>\n",
       "    <tr>\n",
       "      <th>6</th>\n",
       "      <td>789</td>\n",
       "      <td>gudang</td>\n",
       "      <td>7</td>\n",
       "    </tr>\n",
       "    <tr>\n",
       "      <th>7</th>\n",
       "      <td>321</td>\n",
       "      <td>gudang</td>\n",
       "      <td>3</td>\n",
       "    </tr>\n",
       "    <tr>\n",
       "      <th>8</th>\n",
       "      <td>123</td>\n",
       "      <td>toko</td>\n",
       "      <td>64</td>\n",
       "    </tr>\n",
       "    <tr>\n",
       "      <th>9</th>\n",
       "      <td>456</td>\n",
       "      <td>toko</td>\n",
       "      <td>32</td>\n",
       "    </tr>\n",
       "    <tr>\n",
       "      <th>10</th>\n",
       "      <td>789</td>\n",
       "      <td>toko</td>\n",
       "      <td>15</td>\n",
       "    </tr>\n",
       "    <tr>\n",
       "      <th>11</th>\n",
       "      <td>321</td>\n",
       "      <td>toko</td>\n",
       "      <td>24</td>\n",
       "    </tr>\n",
       "  </tbody>\n",
       "</table>\n",
       "</div>"
      ],
      "text/plain": [
       "    kode_area jenis_bangunan  jumlah\n",
       "0         123         pabrik       4\n",
       "1         456         pabrik       2\n",
       "2         789         pabrik       5\n",
       "3         321         pabrik       0\n",
       "4         123         gudang       2\n",
       "5         456         gudang       4\n",
       "6         789         gudang       7\n",
       "7         321         gudang       3\n",
       "8         123           toko      64\n",
       "9         456           toko      32\n",
       "10        789           toko      15\n",
       "11        321           toko      24"
      ]
     },
     "execution_count": 11,
     "metadata": {},
     "output_type": "execute_result"
    }
   ],
   "source": [
    "df = df.melt(id_vars='kode_area', \n",
    "             var_name='jenis_bangunan', \n",
    "             value_name='jumlah')\n",
    "df"
   ]
  }
 ],
 "metadata": {
  "kernelspec": {
   "display_name": "Python 3 (ipykernel)",
   "language": "python",
   "name": "python3"
  },
  "language_info": {
   "codemirror_mode": {
    "name": "ipython",
    "version": 3
   },
   "file_extension": ".py",
   "mimetype": "text/x-python",
   "name": "python",
   "nbconvert_exporter": "python",
   "pygments_lexer": "ipython3",
   "version": "3.12.4"
  }
 },
 "nbformat": 4,
 "nbformat_minor": 5
}
